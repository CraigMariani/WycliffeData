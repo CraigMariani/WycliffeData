{
 "cells": [
  {
   "cell_type": "code",
   "execution_count": 1,
   "metadata": {},
   "outputs": [],
   "source": [
    "import numpy as np\n",
    "import pandas as pd\n",
    "import matplotlib.pyplot as plt\n",
    "%matplotlib inline\n",
    "import seaborn as sns\n",
    "import sklearn\n",
    "from sklearn.preprocessing import StandardScaler\n",
    "from sklearn.cluster import KMeans\n",
    "from sklearn import metrics\n",
    "# from sklearn.cluster import AgglomerativeClusterin"
   ]
  },
  {
   "cell_type": "code",
   "execution_count": 2,
   "metadata": {},
   "outputs": [
    {
     "data": {
      "text/html": [
       "<div>\n",
       "<style scoped>\n",
       "    .dataframe tbody tr th:only-of-type {\n",
       "        vertical-align: middle;\n",
       "    }\n",
       "\n",
       "    .dataframe tbody tr th {\n",
       "        vertical-align: top;\n",
       "    }\n",
       "\n",
       "    .dataframe thead th {\n",
       "        text-align: right;\n",
       "    }\n",
       "</style>\n",
       "<table border=\"1\" class=\"dataframe\">\n",
       "  <thead>\n",
       "    <tr style=\"text-align: right;\">\n",
       "      <th></th>\n",
       "      <th>Unnamed: 0</th>\n",
       "      <th>Index</th>\n",
       "      <th>MinistryMonthlyBudgetAmount</th>\n",
       "      <th>StartDate</th>\n",
       "      <th>EndDate</th>\n",
       "      <th>Marital_Status</th>\n",
       "      <th>Number_of_Household_Members</th>\n",
       "      <th>City</th>\n",
       "      <th>State</th>\n",
       "      <th>PostalCode</th>\n",
       "      <th>Country</th>\n",
       "      <th>Coded_Marital_Status</th>\n",
       "      <th>Address</th>\n",
       "      <th>Latitude</th>\n",
       "      <th>Longitude</th>\n",
       "      <th>Mnths_Passed</th>\n",
       "    </tr>\n",
       "  </thead>\n",
       "  <tbody>\n",
       "    <tr>\n",
       "      <th>0</th>\n",
       "      <td>0</td>\n",
       "      <td>0</td>\n",
       "      <td>5485</td>\n",
       "      <td>2013-03-01</td>\n",
       "      <td>2013-12-31</td>\n",
       "      <td>Married</td>\n",
       "      <td>2</td>\n",
       "      <td>Erlanger</td>\n",
       "      <td>KY</td>\n",
       "      <td>41018</td>\n",
       "      <td>United States of America</td>\n",
       "      <td>2.0</td>\n",
       "      <td>Erlanger, KY, United States of America</td>\n",
       "      <td>39.013755</td>\n",
       "      <td>-84.602290</td>\n",
       "      <td>9.0</td>\n",
       "    </tr>\n",
       "    <tr>\n",
       "      <th>1</th>\n",
       "      <td>1</td>\n",
       "      <td>1</td>\n",
       "      <td>4454</td>\n",
       "      <td>2011-11-01</td>\n",
       "      <td>2012-04-30</td>\n",
       "      <td>Married</td>\n",
       "      <td>2</td>\n",
       "      <td>Spanish Fort</td>\n",
       "      <td>AL</td>\n",
       "      <td>36527</td>\n",
       "      <td>United States of America</td>\n",
       "      <td>2.0</td>\n",
       "      <td>Spanish Fort, AL, United States of America</td>\n",
       "      <td>30.668757</td>\n",
       "      <td>-87.939710</td>\n",
       "      <td>5.0</td>\n",
       "    </tr>\n",
       "    <tr>\n",
       "      <th>2</th>\n",
       "      <td>3</td>\n",
       "      <td>2</td>\n",
       "      <td>767</td>\n",
       "      <td>2013-01-01</td>\n",
       "      <td>2013-12-31</td>\n",
       "      <td>Single</td>\n",
       "      <td>1</td>\n",
       "      <td>Lexington</td>\n",
       "      <td>KY</td>\n",
       "      <td>40517</td>\n",
       "      <td>United States of America</td>\n",
       "      <td>4.0</td>\n",
       "      <td>Lexington, KY, United States of America</td>\n",
       "      <td>38.037847</td>\n",
       "      <td>-84.616450</td>\n",
       "      <td>11.0</td>\n",
       "    </tr>\n",
       "    <tr>\n",
       "      <th>3</th>\n",
       "      <td>53</td>\n",
       "      <td>3</td>\n",
       "      <td>6368</td>\n",
       "      <td>2015-07-01</td>\n",
       "      <td>2016-02-29</td>\n",
       "      <td>Married</td>\n",
       "      <td>2</td>\n",
       "      <td>Manheim</td>\n",
       "      <td>PA</td>\n",
       "      <td>17545</td>\n",
       "      <td>United States of America</td>\n",
       "      <td>2.0</td>\n",
       "      <td>Manheim, PA, United States of America</td>\n",
       "      <td>40.168294</td>\n",
       "      <td>-76.412300</td>\n",
       "      <td>7.0</td>\n",
       "    </tr>\n",
       "    <tr>\n",
       "      <th>4</th>\n",
       "      <td>54</td>\n",
       "      <td>4</td>\n",
       "      <td>1919</td>\n",
       "      <td>2011-08-01</td>\n",
       "      <td>2012-07-31</td>\n",
       "      <td>Divorced</td>\n",
       "      <td>1</td>\n",
       "      <td>Jacksonville</td>\n",
       "      <td>FL</td>\n",
       "      <td>32258-5434</td>\n",
       "      <td>United States of America</td>\n",
       "      <td>1.0</td>\n",
       "      <td>Jacksonville, FL, United States of America</td>\n",
       "      <td>30.344940</td>\n",
       "      <td>-81.683107</td>\n",
       "      <td>11.0</td>\n",
       "    </tr>\n",
       "  </tbody>\n",
       "</table>\n",
       "</div>"
      ],
      "text/plain": [
       "   Unnamed: 0  Index  MinistryMonthlyBudgetAmount   StartDate     EndDate  \\\n",
       "0           0      0                         5485  2013-03-01  2013-12-31   \n",
       "1           1      1                         4454  2011-11-01  2012-04-30   \n",
       "2           3      2                          767  2013-01-01  2013-12-31   \n",
       "3          53      3                         6368  2015-07-01  2016-02-29   \n",
       "4          54      4                         1919  2011-08-01  2012-07-31   \n",
       "\n",
       "  Marital_Status  Number_of_Household_Members          City State  PostalCode  \\\n",
       "0        Married                            2      Erlanger    KY       41018   \n",
       "1        Married                            2  Spanish Fort    AL       36527   \n",
       "2         Single                            1     Lexington    KY       40517   \n",
       "3        Married                            2       Manheim    PA       17545   \n",
       "4       Divorced                            1  Jacksonville    FL  32258-5434   \n",
       "\n",
       "                    Country  Coded_Marital_Status  \\\n",
       "0  United States of America                   2.0   \n",
       "1  United States of America                   2.0   \n",
       "2  United States of America                   4.0   \n",
       "3  United States of America                   2.0   \n",
       "4  United States of America                   1.0   \n",
       "\n",
       "                                      Address   Latitude  Longitude  \\\n",
       "0      Erlanger, KY, United States of America  39.013755 -84.602290   \n",
       "1  Spanish Fort, AL, United States of America  30.668757 -87.939710   \n",
       "2     Lexington, KY, United States of America  38.037847 -84.616450   \n",
       "3       Manheim, PA, United States of America  40.168294 -76.412300   \n",
       "4  Jacksonville, FL, United States of America  30.344940 -81.683107   \n",
       "\n",
       "   Mnths_Passed  \n",
       "0           9.0  \n",
       "1           5.0  \n",
       "2          11.0  \n",
       "3           7.0  \n",
       "4          11.0  "
      ]
     },
     "execution_count": 2,
     "metadata": {},
     "output_type": "execute_result"
    }
   ],
   "source": [
    "df = pd.read_csv('../../Data/OutsideData/datestimes_for_Kmeans.csv')\n",
    "df.head()"
   ]
  },
  {
   "cell_type": "code",
   "execution_count": 3,
   "metadata": {},
   "outputs": [],
   "source": [
    "df = df.drop(columns=['Unnamed: 0', 'Country'], axis=1)"
   ]
  },
  {
   "cell_type": "code",
   "execution_count": 4,
   "metadata": {},
   "outputs": [],
   "source": [
    "df['StartDate'] =  pd.to_datetime(df['StartDate'])\n",
    "df['EndDate'] =  pd.to_datetime(df['EndDate'])"
   ]
  },
  {
   "cell_type": "code",
   "execution_count": 5,
   "metadata": {},
   "outputs": [],
   "source": [
    "# df['Address'].value_counts()"
   ]
  },
  {
   "cell_type": "code",
   "execution_count": 6,
   "metadata": {},
   "outputs": [],
   "source": [
    "# labels = df['Address'].astype('category').cat.categories.tolist()\n",
    "# replace_map_mstatus = {'Address' : {k: v for k,v in zip(labels,list(range(1,len(labels)+1)))}}\n",
    "# replace_map_mstatus"
   ]
  },
  {
   "cell_type": "code",
   "execution_count": 7,
   "metadata": {},
   "outputs": [],
   "source": [
    "# df['Coded_Address'] = df['Index'].map(replace_map_mstatus)"
   ]
  },
  {
   "cell_type": "markdown",
   "metadata": {},
   "source": [
    "Need to find positioning of the initial centroids first so the algorithm can find convergence. Draw a sample from this dataset"
   ]
  },
  {
   "cell_type": "code",
   "execution_count": 8,
   "metadata": {},
   "outputs": [
    {
     "data": {
      "text/plain": [
       "(842, 14)"
      ]
     },
     "execution_count": 8,
     "metadata": {},
     "output_type": "execute_result"
    }
   ],
   "source": [
    "sample_df = df[(df['Index'] % 10) == 0]\n",
    "sample_df.shape"
   ]
  },
  {
   "cell_type": "code",
   "execution_count": 9,
   "metadata": {},
   "outputs": [
    {
     "data": {
      "text/plain": [
       "Index                          0\n",
       "MinistryMonthlyBudgetAmount    0\n",
       "StartDate                      0\n",
       "EndDate                        0\n",
       "Marital_Status                 0\n",
       "Number_of_Household_Members    0\n",
       "City                           0\n",
       "State                          0\n",
       "PostalCode                     0\n",
       "Coded_Marital_Status           0\n",
       "Address                        0\n",
       "Latitude                       0\n",
       "Longitude                      0\n",
       "Mnths_Passed                   0\n",
       "dtype: int64"
      ]
     },
     "execution_count": 9,
     "metadata": {},
     "output_type": "execute_result"
    }
   ],
   "source": [
    "sample_df.isnull().sum()"
   ]
  },
  {
   "cell_type": "code",
   "execution_count": 10,
   "metadata": {},
   "outputs": [
    {
     "data": {
      "text/plain": [
       "(842, 14)"
      ]
     },
     "execution_count": 10,
     "metadata": {},
     "output_type": "execute_result"
    }
   ],
   "source": [
    "sample_df = sample_df.drop_duplicates()\n",
    "sample_df.shape"
   ]
  },
  {
   "cell_type": "markdown",
   "metadata": {},
   "source": [
    "Scale values so they all have equal importance, and distance between points is not affected"
   ]
  },
  {
   "cell_type": "code",
   "execution_count": 11,
   "metadata": {},
   "outputs": [
    {
     "name": "stdout",
     "output_type": "stream",
     "text": [
      "<class 'pandas.core.frame.DataFrame'>\n",
      "RangeIndex: 8498 entries, 0 to 8497\n",
      "Data columns (total 14 columns):\n",
      "Index                          8498 non-null int64\n",
      "MinistryMonthlyBudgetAmount    8498 non-null int64\n",
      "StartDate                      8498 non-null datetime64[ns]\n",
      "EndDate                        8498 non-null datetime64[ns]\n",
      "Marital_Status                 8498 non-null object\n",
      "Number_of_Household_Members    8498 non-null int64\n",
      "City                           8498 non-null object\n",
      "State                          8498 non-null object\n",
      "PostalCode                     8498 non-null object\n",
      "Coded_Marital_Status           8498 non-null float64\n",
      "Address                        8498 non-null object\n",
      "Latitude                       8498 non-null float64\n",
      "Longitude                      8498 non-null float64\n",
      "Mnths_Passed                   8498 non-null float64\n",
      "dtypes: datetime64[ns](2), float64(4), int64(3), object(5)\n",
      "memory usage: 929.6+ KB\n"
     ]
    }
   ],
   "source": [
    "df.info() # filter out the non numerical values "
   ]
  },
  {
   "cell_type": "code",
   "execution_count": 15,
   "metadata": {},
   "outputs": [
    {
     "data": {
      "text/html": [
       "<div>\n",
       "<style scoped>\n",
       "    .dataframe tbody tr th:only-of-type {\n",
       "        vertical-align: middle;\n",
       "    }\n",
       "\n",
       "    .dataframe tbody tr th {\n",
       "        vertical-align: top;\n",
       "    }\n",
       "\n",
       "    .dataframe thead th {\n",
       "        text-align: right;\n",
       "    }\n",
       "</style>\n",
       "<table border=\"1\" class=\"dataframe\">\n",
       "  <thead>\n",
       "    <tr style=\"text-align: right;\">\n",
       "      <th></th>\n",
       "      <th>Index</th>\n",
       "      <th>MinistryMonthlyBudgetAmount</th>\n",
       "      <th>Number_of_Household_Members</th>\n",
       "      <th>Coded_Marital_Status</th>\n",
       "      <th>Latitude</th>\n",
       "      <th>Longitude</th>\n",
       "      <th>Mnths_Passed</th>\n",
       "    </tr>\n",
       "  </thead>\n",
       "  <tbody>\n",
       "    <tr>\n",
       "      <th>0</th>\n",
       "      <td>0</td>\n",
       "      <td>5485</td>\n",
       "      <td>2</td>\n",
       "      <td>2.0</td>\n",
       "      <td>39.013755</td>\n",
       "      <td>-84.602290</td>\n",
       "      <td>9.0</td>\n",
       "    </tr>\n",
       "    <tr>\n",
       "      <th>9</th>\n",
       "      <td>10</td>\n",
       "      <td>5459</td>\n",
       "      <td>2</td>\n",
       "      <td>2.0</td>\n",
       "      <td>40.964111</td>\n",
       "      <td>-81.689610</td>\n",
       "      <td>22.0</td>\n",
       "    </tr>\n",
       "    <tr>\n",
       "      <th>19</th>\n",
       "      <td>20</td>\n",
       "      <td>5827</td>\n",
       "      <td>2</td>\n",
       "      <td>2.0</td>\n",
       "      <td>32.767268</td>\n",
       "      <td>-96.777626</td>\n",
       "      <td>2.0</td>\n",
       "    </tr>\n",
       "    <tr>\n",
       "      <th>28</th>\n",
       "      <td>30</td>\n",
       "      <td>3816</td>\n",
       "      <td>1</td>\n",
       "      <td>4.0</td>\n",
       "      <td>43.069560</td>\n",
       "      <td>-89.423861</td>\n",
       "      <td>6.0</td>\n",
       "    </tr>\n",
       "    <tr>\n",
       "      <th>38</th>\n",
       "      <td>40</td>\n",
       "      <td>1942</td>\n",
       "      <td>2</td>\n",
       "      <td>5.0</td>\n",
       "      <td>33.857423</td>\n",
       "      <td>-83.718990</td>\n",
       "      <td>35.0</td>\n",
       "    </tr>\n",
       "  </tbody>\n",
       "</table>\n",
       "</div>"
      ],
      "text/plain": [
       "    Index  MinistryMonthlyBudgetAmount  Number_of_Household_Members  \\\n",
       "0       0                         5485                            2   \n",
       "9      10                         5459                            2   \n",
       "19     20                         5827                            2   \n",
       "28     30                         3816                            1   \n",
       "38     40                         1942                            2   \n",
       "\n",
       "    Coded_Marital_Status   Latitude  Longitude  Mnths_Passed  \n",
       "0                    2.0  39.013755 -84.602290           9.0  \n",
       "9                    2.0  40.964111 -81.689610          22.0  \n",
       "19                   2.0  32.767268 -96.777626           2.0  \n",
       "28                   4.0  43.069560 -89.423861           6.0  \n",
       "38                   5.0  33.857423 -83.718990          35.0  "
      ]
     },
     "execution_count": 15,
     "metadata": {},
     "output_type": "execute_result"
    }
   ],
   "source": [
    "numerical_df = sample_df.select_dtypes(exclude=['object'])\n",
    "numerical_df = numerical_df.drop(columns=['StartDate', 'EndDate'], axis=1)\n",
    "numerical_df.head()"
   ]
  },
  {
   "cell_type": "code",
   "execution_count": 16,
   "metadata": {},
   "outputs": [
    {
     "data": {
      "text/plain": [
       "array([[-1.72663956,  0.42279194,  0.39578689, ...,  0.44545611,\n",
       "         0.61652424, -0.38178957],\n",
       "       [-1.72272861,  0.40879543,  0.39578689, ...,  0.81696416,\n",
       "         0.81337488,  1.26805986],\n",
       "       [-1.71881767,  0.60689977,  0.39578689, ..., -0.74438833,\n",
       "        -0.20633394, -1.27017003],\n",
       "       ...,\n",
       "       [ 1.74236694, -1.17873093, -2.47708003, ..., -0.25313156,\n",
       "         0.89099661, -0.12796658],\n",
       "       [ 1.74627788,  0.41310205,  0.39578689, ..., -0.74438833,\n",
       "        -0.20633394, -0.12796658],\n",
       "       [ 1.75018882,  2.86248997,  0.39578689, ...,  1.94290906,\n",
       "        -1.6006987 , -0.12796658]])"
      ]
     },
     "execution_count": 16,
     "metadata": {},
     "output_type": "execute_result"
    }
   ],
   "source": [
    "X = StandardScaler().fit_transform(numerical_df)\n",
    "X"
   ]
  },
  {
   "cell_type": "code",
   "execution_count": 23,
   "metadata": {},
   "outputs": [
    {
     "data": {
      "text/plain": [
       "KMeans(algorithm='auto', copy_x=True, init='k-means++', max_iter=300,\n",
       "       n_clusters=12, n_init=10, n_jobs=None, precompute_distances='auto',\n",
       "       random_state=None, tol=0.0001, verbose=0)"
      ]
     },
     "execution_count": 23,
     "metadata": {},
     "output_type": "execute_result"
    }
   ],
   "source": [
    "# set number of clusters at initialization time to 12\n",
    "k_means = KMeans(n_clusters=12)\n",
    "\n",
    "#Run the clustering algorithm\n",
    "model = k_means.fit(X)\n",
    "model\n",
    "\n",
    "#Generate cluster predictions and store in y_hat\n",
    "y_hat = k_means.predict(X)\n",
    "# y_hat.shape\n",
    "# X.shape\n",
    "# model"
   ]
  },
  {
   "cell_type": "code",
   "execution_count": 18,
   "metadata": {},
   "outputs": [
    {
     "data": {
      "text/plain": [
       "0.21319111333875515"
      ]
     },
     "execution_count": 18,
     "metadata": {},
     "output_type": "execute_result"
    }
   ],
   "source": [
    "# calculate silhouette coefficient\n",
    "from sklearn import metrics\n",
    "labels = k_means.labels_\n",
    "metrics.silhouette_score(X, labels, metric = 'euclidean')"
   ]
  },
  {
   "cell_type": "code",
   "execution_count": 19,
   "metadata": {},
   "outputs": [
    {
     "data": {
      "text/plain": [
       "171.57466236852358"
      ]
     },
     "execution_count": 19,
     "metadata": {},
     "output_type": "execute_result"
    }
   ],
   "source": [
    "# calculate the CH score\n",
    "metrics.calinski_harabasz_score(X, labels)"
   ]
  },
  {
   "cell_type": "code",
   "execution_count": 24,
   "metadata": {},
   "outputs": [],
   "source": [
    "#for each value of k, we can initialise k_means and use inertia to identify the sum of squared distances of samples to the nearest cluster centre\n",
    "sum_of_squared_distances = []\n",
    "K = range(1,15)\n",
    "for k in K:\n",
    "    k_means = KMeans(n_clusters=k)\n",
    "    model = k_means.fit(X)\n",
    "    sum_of_squared_distances.append(k_means.inertia_)"
   ]
  },
  {
   "cell_type": "code",
   "execution_count": 25,
   "metadata": {},
   "outputs": [
    {
     "data": {
      "image/png": "[encoded data removed]",
      "text/plain": [
       "<Figure size 432x288 with 1 Axes>"
      ]
     },
     "metadata": {
      "needs_background": "light"
     },
     "output_type": "display_data"
    }
   ],
   "source": [
    "plt.plot(K, sum_of_squared_distances, 'bx-')\n",
    "plt.xlabel('k')\n",
    "plt.ylabel('sum_of_squared_distances')\n",
    "plt.title('elbow method for optimal k')\n",
    "plt.show()"
   ]
  },
  {
   "cell_type": "code",
   "execution_count": null,
   "metadata": {},
   "outputs": [],
   "source": [
    "# set number of clusters at initialization time to 12\n",
    "k_means_5 = KMeans(n_clusters=5)\n",
    "\n",
    "#Run the clustering algorithm\n",
    "model = k_means.fit(X)\n",
    "model\n",
    "\n",
    "#Generate cluster predictions and store in y_hat\n",
    "y_hat = k_means.predict(X)\n"
   ]
  }
 ],
 "metadata": {
  "kernelspec": {
   "display_name": "Python 3",
   "language": "python",
   "name": "python3"
  },
  "language_info": {
   "codemirror_mode": {
    "name": "ipython",
    "version": 3
   },
   "file_extension": ".py",
   "mimetype": "text/x-python",
   "name": "python",
   "nbconvert_exporter": "python",
   "pygments_lexer": "ipython3",
   "version": "3.7.3"
  }
 },
 "nbformat": 4,
 "nbformat_minor": 2
}
