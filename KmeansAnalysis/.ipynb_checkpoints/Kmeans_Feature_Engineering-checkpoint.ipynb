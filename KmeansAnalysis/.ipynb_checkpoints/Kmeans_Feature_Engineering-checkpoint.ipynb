{
 "cells": [
  {
   "cell_type": "markdown",
   "metadata": {},
   "source": [
    "Purpose of this script: Modify categorical and numerical data for a more accurate kmeans clustering modificaiton. This is done with Feature Engineering. Our data is mainly categorical (Postal Codes, Citys, Marital Status, Dates) We will use Bin-counting scheme encoding for this for the large number of categories we have for each attribute. \n",
    "\n",
    "-Cities converted to Lat and Longitude (new attributes made for these)\n",
    "\n",
    "-Marital status converted to numbers for different values (new attribute made for the number code)\n",
    "\n",
    "-Modify the dates so the new feature will say length of duration, do this by rounding start and end dates into nearest month of a certian year. The calculate the difference between start and end year, and the difference between start and end month. Drop the days. We will get the duration of the project. This will be the new feature along with rounded year. \n"
   ]
  },
  {
   "cell_type": "code",
   "execution_count": 1,
   "metadata": {},
   "outputs": [],
   "source": [
    "# import libraries \n",
    "import numpy as np\n",
    "import pandas as pd\n",
    "import copy\n",
    "import itertools\n",
    "\n",
    "\n",
    "import geopy\n",
    "from geopy import Nominatim\n",
    "\n",
    "import seaborn as sns\n",
    "sns.set(style='darkgrid')\n",
    "import matplotlib.pyplot as plt\n",
    "from matplotlib import style\n",
    "style.use('ggplot')\n",
    "%matplotlib inline\n",
    "\n",
    "import scipy.stats as spstats\n",
    "from sklearn.preprocessing import LabelEncoder\n",
    "from sklearn.preprocessing import LabelBinarizer\n"
   ]
  },
  {
   "cell_type": "code",
   "execution_count": 2,
   "metadata": {},
   "outputs": [
    {
     "name": "stdout",
     "output_type": "stream",
     "text": [
      "        Unnamed: 0  MinistryMonthlyBudgetAmount  Number_of_Household_Members\n",
      "count  8900.000000                  8900.000000                  8900.000000\n",
      "mean   4450.500000                  4661.546067                     1.857753\n",
      "std    2569.353031                  1805.624232                     0.355383\n",
      "min       1.000000                    44.000000                     1.000000\n",
      "25%    2225.750000                  3326.000000                     2.000000\n",
      "50%    4450.500000                  4598.000000                     2.000000\n",
      "75%    6675.250000                  5915.250000                     2.000000\n",
      "max    8900.000000                 15136.000000                     3.000000\n",
      "\n",
      "<class 'pandas.core.frame.DataFrame'>\n",
      "RangeIndex: 8900 entries, 0 to 8899\n",
      "Data columns (total 10 columns):\n",
      "Unnamed: 0                     8900 non-null int64\n",
      "MinistryMonthlyBudgetAmount    8900 non-null int64\n",
      "StartDate                      8900 non-null object\n",
      "EndDate                        8900 non-null object\n",
      "Marital_Status                 8900 non-null object\n",
      "Number_of_Household_Members    8900 non-null int64\n",
      "City                           8900 non-null object\n",
      "State                          8900 non-null object\n",
      "PostalCode                     8900 non-null object\n",
      "Country                        8900 non-null object\n",
      "dtypes: int64(3), object(7)\n",
      "memory usage: 695.4+ KB\n",
      "None\n",
      "\n",
      "(8900, 10)\n",
      "\n"
     ]
    },
    {
     "data": {
      "text/html": [
       "<div>\n",
       "<style scoped>\n",
       "    .dataframe tbody tr th:only-of-type {\n",
       "        vertical-align: middle;\n",
       "    }\n",
       "\n",
       "    .dataframe tbody tr th {\n",
       "        vertical-align: top;\n",
       "    }\n",
       "\n",
       "    .dataframe thead th {\n",
       "        text-align: right;\n",
       "    }\n",
       "</style>\n",
       "<table border=\"1\" class=\"dataframe\">\n",
       "  <thead>\n",
       "    <tr style=\"text-align: right;\">\n",
       "      <th></th>\n",
       "      <th>Unnamed: 0</th>\n",
       "      <th>MinistryMonthlyBudgetAmount</th>\n",
       "      <th>StartDate</th>\n",
       "      <th>EndDate</th>\n",
       "      <th>Marital_Status</th>\n",
       "      <th>Number_of_Household_Members</th>\n",
       "      <th>City</th>\n",
       "      <th>State</th>\n",
       "      <th>PostalCode</th>\n",
       "      <th>Country</th>\n",
       "    </tr>\n",
       "  </thead>\n",
       "  <tbody>\n",
       "    <tr>\n",
       "      <th>0</th>\n",
       "      <td>1</td>\n",
       "      <td>5485</td>\n",
       "      <td>3/1/2013</td>\n",
       "      <td>12/31/2013</td>\n",
       "      <td>Married</td>\n",
       "      <td>2</td>\n",
       "      <td>Erlanger</td>\n",
       "      <td>KY</td>\n",
       "      <td>41018</td>\n",
       "      <td>United States of America</td>\n",
       "    </tr>\n",
       "    <tr>\n",
       "      <th>1</th>\n",
       "      <td>2</td>\n",
       "      <td>4454</td>\n",
       "      <td>11/1/2011</td>\n",
       "      <td>4/30/2012</td>\n",
       "      <td>Married</td>\n",
       "      <td>2</td>\n",
       "      <td>Spanish Fort</td>\n",
       "      <td>AL</td>\n",
       "      <td>36527</td>\n",
       "      <td>United States of America</td>\n",
       "    </tr>\n",
       "    <tr>\n",
       "      <th>2</th>\n",
       "      <td>3</td>\n",
       "      <td>767</td>\n",
       "      <td>1/1/2013</td>\n",
       "      <td>12/31/2013</td>\n",
       "      <td>Single</td>\n",
       "      <td>1</td>\n",
       "      <td>Lexington</td>\n",
       "      <td>KY</td>\n",
       "      <td>40517</td>\n",
       "      <td>United States of America</td>\n",
       "    </tr>\n",
       "    <tr>\n",
       "      <th>3</th>\n",
       "      <td>4</td>\n",
       "      <td>6368</td>\n",
       "      <td>7/1/2015</td>\n",
       "      <td>2/29/2016</td>\n",
       "      <td>Married</td>\n",
       "      <td>2</td>\n",
       "      <td>Manheim</td>\n",
       "      <td>PA</td>\n",
       "      <td>17545</td>\n",
       "      <td>United States of America</td>\n",
       "    </tr>\n",
       "    <tr>\n",
       "      <th>4</th>\n",
       "      <td>5</td>\n",
       "      <td>1919</td>\n",
       "      <td>8/1/2011</td>\n",
       "      <td>7/31/2012</td>\n",
       "      <td>Divorced</td>\n",
       "      <td>1</td>\n",
       "      <td>Jacksonville</td>\n",
       "      <td>FL</td>\n",
       "      <td>32258-5434</td>\n",
       "      <td>United States of America</td>\n",
       "    </tr>\n",
       "  </tbody>\n",
       "</table>\n",
       "</div>"
      ],
      "text/plain": [
       "   Unnamed: 0  MinistryMonthlyBudgetAmount  StartDate     EndDate  \\\n",
       "0           1                         5485   3/1/2013  12/31/2013   \n",
       "1           2                         4454  11/1/2011   4/30/2012   \n",
       "2           3                          767   1/1/2013  12/31/2013   \n",
       "3           4                         6368   7/1/2015   2/29/2016   \n",
       "4           5                         1919   8/1/2011   7/31/2012   \n",
       "\n",
       "  Marital_Status  Number_of_Household_Members          City State  PostalCode  \\\n",
       "0        Married                            2      Erlanger    KY       41018   \n",
       "1        Married                            2  Spanish Fort    AL       36527   \n",
       "2         Single                            1     Lexington    KY       40517   \n",
       "3        Married                            2       Manheim    PA       17545   \n",
       "4       Divorced                            1  Jacksonville    FL  32258-5434   \n",
       "\n",
       "                    Country  \n",
       "0  United States of America  \n",
       "1  United States of America  \n",
       "2  United States of America  \n",
       "3  United States of America  \n",
       "4  United States of America  "
      ]
     },
     "execution_count": 2,
     "metadata": {},
     "output_type": "execute_result"
    }
   ],
   "source": [
    "# read in data and make sure it is accurate\n",
    "df = pd.read_csv('../../Data/ICTO_Datasets/cleaned_ICTO_Datasets.csv')\n",
    "print(df.describe())\n",
    "print()\n",
    "print(df.info())\n",
    "print()\n",
    "print(df.shape)\n",
    "print()\n",
    "df.head()"
   ]
  },
  {
   "cell_type": "code",
   "execution_count": 3,
   "metadata": {},
   "outputs": [],
   "source": [
    "# create geopy object called \n",
    "geolocator=Nominatim(user_agent='geo_processor')"
   ]
  },
  {
   "cell_type": "code",
   "execution_count": 4,
   "metadata": {},
   "outputs": [],
   "source": [
    "city = df['City'][0]\n",
    "country = df['Country'][0]"
   ]
  },
  {
   "cell_type": "code",
   "execution_count": 5,
   "metadata": {},
   "outputs": [
    {
     "name": "stdout",
     "output_type": "stream",
     "text": [
      "39.0167275\n",
      "-84.6007773\n"
     ]
    }
   ],
   "source": [
    "# works for one\n",
    "loc = geolocator.geocode('{},{}'.format(city, country))   \n",
    "print(loc.latitude)\n",
    "print(loc.longitude)"
   ]
  },
  {
   "cell_type": "code",
   "execution_count": 15,
   "metadata": {},
   "outputs": [],
   "source": [
    "# locations = pd.Series(itertools.zip_longest(df['City'], df['Country']))\n",
    "# locations`"
   ]
  },
  {
   "cell_type": "code",
   "execution_count": 14,
   "metadata": {},
   "outputs": [
    {
     "name": "stdout",
     "output_type": "stream",
     "text": [
      "('Erlanger', 'United States of America')\n"
     ]
    },
    {
     "ename": "AttributeError",
     "evalue": "'NoneType' object has no attribute 'latitude'",
     "output_type": "error",
     "traceback": [
      "\u001b[1;31m---------------------------------------------------------------------------\u001b[0m",
      "\u001b[1;31mAttributeError\u001b[0m                            Traceback (most recent call last)",
      "\u001b[1;32m<ipython-input-14-929081c5f039>\u001b[0m in \u001b[0;36m<module>\u001b[1;34m\u001b[0m\n\u001b[0;32m      4\u001b[0m \u001b[1;33m\u001b[0m\u001b[0m\n\u001b[0;32m      5\u001b[0m \u001b[0mprint\u001b[0m\u001b[1;33m(\u001b[0m\u001b[0mlocations\u001b[0m\u001b[1;33m[\u001b[0m\u001b[1;36m0\u001b[0m\u001b[1;33m]\u001b[0m\u001b[1;33m)\u001b[0m\u001b[1;33m\u001b[0m\u001b[1;33m\u001b[0m\u001b[0m\n\u001b[1;32m----> 6\u001b[1;33m \u001b[0mprint\u001b[0m\u001b[1;33m(\u001b[0m\u001b[0mloc_geocoded\u001b[0m\u001b[1;33m.\u001b[0m\u001b[0mlatitude\u001b[0m\u001b[1;33m)\u001b[0m\u001b[1;33m\u001b[0m\u001b[1;33m\u001b[0m\u001b[0m\n\u001b[0m\u001b[0;32m      7\u001b[0m \u001b[0mprint\u001b[0m\u001b[1;33m(\u001b[0m\u001b[0mloc_geocoded\u001b[0m\u001b[1;33m.\u001b[0m\u001b[0mlongitude\u001b[0m\u001b[1;33m)\u001b[0m\u001b[1;33m\u001b[0m\u001b[1;33m\u001b[0m\u001b[0m\n\u001b[0;32m      8\u001b[0m \u001b[0mprint\u001b[0m\u001b[1;33m(\u001b[0m\u001b[0mtype\u001b[0m\u001b[1;33m(\u001b[0m\u001b[0mloc_geocoded\u001b[0m\u001b[1;33m)\u001b[0m\u001b[1;33m)\u001b[0m\u001b[1;33m\u001b[0m\u001b[1;33m\u001b[0m\u001b[0m\n",
      "\u001b[1;31mAttributeError\u001b[0m: 'NoneType' object has no attribute 'latitude'"
     ]
    }
   ],
   "source": [
    "\n",
    "# loc_geocoded = geolocator.geocode('{}'.format(locations[0]))\n",
    "loc_geocoded = geolocator.geocode('{},{}'.format(df['City'], df{'Country'}))\n",
    "\n",
    "# print(locations[0])\n",
    "# print(loc_geocoded.latitude)\n",
    "# print(loc_geocoded.longitude)\n",
    "# print(type(loc_geocoded))"
   ]
  },
  {
   "cell_type": "code",
   "execution_count": 13,
   "metadata": {},
   "outputs": [],
   "source": [
    "loc_geocoded = geolocator.geocode('{}'.format(locations[0]))"
   ]
  },
  {
   "cell_type": "code",
   "execution_count": 10,
   "metadata": {},
   "outputs": [],
   "source": [
    "\n",
    "# loc_geocoded = geolocator.geocode('{}'.format(locations[counter]))\n",
    "\n",
    "# geocoded = itertools.starmap(geolocator.geocode('{}'.format()), locations)\n",
    "loc=pd.Series(itertools.islice(locations, 10))\n",
    "# loc = str(loc)\n",
    "# geocoded = geolocator.geocode('{}'.format(loc[0]))\n",
    "# print(type(geocoded))\n",
    "# geocoded.latitude\n",
    "# print(loc[0])"
   ]
  },
  {
   "cell_type": "code",
   "execution_count": 11,
   "metadata": {},
   "outputs": [
    {
     "data": {
      "text/plain": [
       "0        (Erlanger, United States of America)\n",
       "1    (Spanish Fort, United States of America)\n",
       "2       (Lexington, United States of America)\n",
       "3         (Manheim, United States of America)\n",
       "4    (Jacksonville, United States of America)\n",
       "5     (Owingsville, United States of America)\n",
       "6         (Orlando, United States of America)\n",
       "7    (Millersville, United States of America)\n",
       "8      (Glen Ellyn, United States of America)\n",
       "9        (St Cloud, United States of America)\n",
       "dtype: object"
      ]
     },
     "execution_count": 11,
     "metadata": {},
     "output_type": "execute_result"
    }
   ],
   "source": [
    "loc"
   ]
  },
  {
   "cell_type": "markdown",
   "metadata": {},
   "source": [
    "Marital status converted to numbers for different values (new attribute made for the number code)"
   ]
  },
  {
   "cell_type": "code",
   "execution_count": null,
   "metadata": {},
   "outputs": [],
   "source": [
    "df.columns"
   ]
  },
  {
   "cell_type": "code",
   "execution_count": null,
   "metadata": {},
   "outputs": [],
   "source": [
    "# get unique values in marital status\n",
    "m_stats_unique = df['Marital_Status'].unique()\n",
    "print('Unique columns',m_stats_unique)\n",
    "print('Unique shape',m_stats_unique.shape)\n",
    "print('Original shape ',df['Marital_Status'].shape)\n",
    "print()\n",
    "print('Value Counts:')\n",
    "print(df['Marital_Status'].value_counts())\n",
    "print('Unique Values: ', df['Marital_Status'].value_counts().count())"
   ]
  },
  {
   "cell_type": "code",
   "execution_count": null,
   "metadata": {
    "scrolled": true
   },
   "outputs": [],
   "source": [
    "# data exploration of marital status\n",
    "mstatus_counts = df['Marital_Status'].value_counts()\n",
    "sns.barplot(mstatus_counts.index, mstatus_counts.values, alpha=0.6)\n",
    "plt.title('Frquency Distribution of Marital Status', color='white')\n",
    "plt.ylabel('Number of Occurences', fontsize=12, color='white')\n",
    "plt.xlabel('Marital Status', fontsize=12, color='white')\n",
    "plt.show()"
   ]
  },
  {
   "cell_type": "code",
   "execution_count": null,
   "metadata": {},
   "outputs": [],
   "source": [
    "labels = df['Marital_Status'].astype('category').cat.categories.tolist()\n",
    "counts = df['Marital_Status'].value_counts()\n",
    "sizes = [counts[var] for var in labels]\n",
    "fig1, ax1 = plt.subplots()\n",
    "ax1.pie(sizes, labels=labels, autopct='%1.1f%%', shadow=True) #autopct is show the % on plot\n",
    "ax1.axis('equal')\n",
    "plt.show()"
   ]
  },
  {
   "cell_type": "code",
   "execution_count": null,
   "metadata": {},
   "outputs": [],
   "source": [
    "# use sci-kit learn's LabelBinarizer to convert Marital Status values to \n",
    "\n",
    "lb = LabelBinarizer()\n",
    "lb_results = lb.fit_transform(df['Marital_Status'])\n",
    "lb_results_df = pd.DataFrame(lb_results, columns=lb.classes_)\n",
    "lb_results_df.head()\n",
    "# print(df.head())"
   ]
  },
  {
   "cell_type": "code",
   "execution_count": null,
   "metadata": {},
   "outputs": [],
   "source": [
    "# using pandas replace() and dictionary comprehensions to encode marital status with new values\n",
    "labels = df['Marital_Status'].astype('category').cat.categories.tolist()\n",
    "replace_map_mstatus = {'Marital_Status' : {k: v for k,v in zip(labels,list(range(1,len(labels)+1)))}}\n",
    "replace_map_mstatus"
   ]
  },
  {
   "cell_type": "code",
   "execution_count": null,
   "metadata": {},
   "outputs": [],
   "source": [
    "map_mstatus = {\n",
    "    'Divorced': 1,\n",
    "    'Married': 2,\n",
    "    'Seperated': 3,\n",
    "    'Single': 4,\n",
    "    'Widowed': 5,\n",
    "    'Widower': 6\n",
    "}"
   ]
  },
  {
   "cell_type": "code",
   "execution_count": null,
   "metadata": {},
   "outputs": [],
   "source": [
    "# mapping the column Marital_Status from df to dictionary mapping \n",
    "# df['Coded_Marital_Status'] = df['Marital_Status'].map(map_mstatus)\n",
    "df['Coded_Marital_Status'] = df['Marital_Status'].map(map_mstatus)\n",
    "df.head()"
   ]
  },
  {
   "cell_type": "markdown",
   "metadata": {},
   "source": [
    "Modify the dates so the new feature will say length of duration, do this by rounding start and end dates into nearest month of a certian year. The calculate the difference between start and end year, and the difference between start and end month. Drop the days. We will get the duration of the project. This will be the new feature along with rounded year."
   ]
  },
  {
   "cell_type": "code",
   "execution_count": null,
   "metadata": {},
   "outputs": [],
   "source": [
    "type(df['StartDate'][0])"
   ]
  },
  {
   "cell_type": "code",
   "execution_count": null,
   "metadata": {},
   "outputs": [],
   "source": [
    "split_series_start = df['StartDate'].str.split('/', n=3, expand=True)\n",
    "split_series_end = df['EndDate'].str.split('/', n=3, expand=True)"
   ]
  },
  {
   "cell_type": "code",
   "execution_count": null,
   "metadata": {},
   "outputs": [],
   "source": [
    "split_series_start"
   ]
  },
  {
   "cell_type": "code",
   "execution_count": null,
   "metadata": {},
   "outputs": [],
   "source": [
    "df['Start_Yr'] = split_series_start[2]\n",
    "df['End_Yr'] = split_series_end[2]\n",
    "df['Start_Mnth'] = split_series_start[0]\n",
    "df['End_Mnth'] = split_series_end[0]"
   ]
  },
  {
   "cell_type": "code",
   "execution_count": null,
   "metadata": {},
   "outputs": [],
   "source": [
    "df['Start_Yr'] = df['Start_Yr'].astype(int)\n",
    "df['End_Yr'] = df['End_Yr'].astype(int)\n",
    "df['Start_Mnth'] = df['Start_Mnth'].astype(int)\n",
    "df['End_Mnth'] = df['End_Mnth'].astype(int)"
   ]
  },
  {
   "cell_type": "code",
   "execution_count": null,
   "metadata": {},
   "outputs": [],
   "source": [
    "# convert the years into months \n",
    "# add the start and end months onto the start and end years in months\n",
    "# compute the difference in start and end years in months \n",
    "Start_Yr_Mnths = (df['Start_Yr'] * 12) + df['Start_Mnth']\n",
    "End_Yr_Mnths = (df['End_Yr'] * 12) + df['End_Mnth']"
   ]
  },
  {
   "cell_type": "code",
   "execution_count": null,
   "metadata": {},
   "outputs": [],
   "source": [
    "Time_Elapsed = End_Yr_Mnths - Start_Yr_Mnths"
   ]
  },
  {
   "cell_type": "code",
   "execution_count": null,
   "metadata": {},
   "outputs": [],
   "source": [
    "Time_Elapsed"
   ]
  },
  {
   "cell_type": "code",
   "execution_count": null,
   "metadata": {},
   "outputs": [],
   "source": [
    "df['Time_Elapsed_In_Months'] = pd.DataFrame(Time_Elapsed)"
   ]
  },
  {
   "cell_type": "code",
   "execution_count": null,
   "metadata": {},
   "outputs": [],
   "source": [
    "df.drop(['Time_Elapsed'], axis=1, inplace=True)\n",
    "df.head()"
   ]
  }
 ],
 "metadata": {
  "kernelspec": {
   "display_name": "Python 3",
   "language": "python",
   "name": "python3"
  },
  "language_info": {
   "codemirror_mode": {
    "name": "ipython",
    "version": 3
   },
   "file_extension": ".py",
   "mimetype": "text/x-python",
   "name": "python",
   "nbconvert_exporter": "python",
   "pygments_lexer": "ipython3",
   "version": "3.7.3"
  }
 },
 "nbformat": 4,
 "nbformat_minor": 2
}
