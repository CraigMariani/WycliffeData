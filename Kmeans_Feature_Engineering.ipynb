{
 "cells": [
  {
   "cell_type": "markdown",
   "metadata": {},
   "source": [
    "Purpose of this script: Modify categorical and numerical data for a more accurate kmeans clustering modificaiton. This is done with Feature Engineering. Our data is mainly categorical (Postal Codes, Citys, Marital Status, Dates) We will use Bin-counting scheme encoding for this for the large number of categories we have for each attribute. \n",
    "\n",
    "-Cities converted to Lat and Longitude (new attributes made for these)\n",
    "\n",
    "-Marital status converted to numbers for different values (new attribute made for the number code)\n",
    "\n",
    "-Modify the dates so the new feature will say length of duration, do this by rounding start and end dates into nearest month of a certian year. The calculate the difference between start and end year, and the difference between start and end month. Drop the days. We will get the duration of the project. This will be the new feature along with rounded year. \n"
   ]
  },
  {
   "cell_type": "code",
   "execution_count": 1,
   "metadata": {},
   "outputs": [],
   "source": [
    "# import libraries \n",
    "import numpy as np\n",
    "import pandas as pd\n",
    "import copy\n",
    "\n",
    "\n",
    "\n",
    "import geopy\n",
    "from geopy import Nominatim\n",
    "\n",
    "import seaborn as sns\n",
    "sns.set(style='darkgrid')\n",
    "import matplotlib.pyplot as plt\n",
    "from matplotlib import style\n",
    "style.use('ggplot')\n",
    "%matplotlib inline\n",
    "\n",
    "import scipy.stats as spstats\n",
    "from sklearn.preprocessing import LabelEncoder\n",
    "from sklearn.preprocessing import LabelBinarizer\n"
   ]
  },
  {
   "cell_type": "code",
   "execution_count": 2,
   "metadata": {},
   "outputs": [
    {
     "name": "stdout",
     "output_type": "stream",
     "text": [
      "        Unnamed: 0  MinistryMonthlyBudgetAmount  Number_of_Household_Members\n",
      "count  8900.000000                  8900.000000                  8900.000000\n",
      "mean   4450.500000                  4661.546067                     1.857753\n",
      "std    2569.353031                  1805.624232                     0.355383\n",
      "min       1.000000                    44.000000                     1.000000\n",
      "25%    2225.750000                  3326.000000                     2.000000\n",
      "50%    4450.500000                  4598.000000                     2.000000\n",
      "75%    6675.250000                  5915.250000                     2.000000\n",
      "max    8900.000000                 15136.000000                     3.000000\n",
      "\n",
      "<class 'pandas.core.frame.DataFrame'>\n",
      "RangeIndex: 8900 entries, 0 to 8899\n",
      "Data columns (total 10 columns):\n",
      "Unnamed: 0                     8900 non-null int64\n",
      "MinistryMonthlyBudgetAmount    8900 non-null int64\n",
      "StartDate                      8900 non-null object\n",
      "EndDate                        8900 non-null object\n",
      "Marital_Status                 8900 non-null object\n",
      "Number_of_Household_Members    8900 non-null int64\n",
      "City                           8900 non-null object\n",
      "State                          8900 non-null object\n",
      "PostalCode                     8900 non-null object\n",
      "Country                        8900 non-null object\n",
      "dtypes: int64(3), object(7)\n",
      "memory usage: 695.4+ KB\n",
      "None\n",
      "\n",
      "(8900, 10)\n",
      "\n"
     ]
    },
    {
     "data": {
      "text/html": [
       "<div>\n",
       "<style scoped>\n",
       "    .dataframe tbody tr th:only-of-type {\n",
       "        vertical-align: middle;\n",
       "    }\n",
       "\n",
       "    .dataframe tbody tr th {\n",
       "        vertical-align: top;\n",
       "    }\n",
       "\n",
       "    .dataframe thead th {\n",
       "        text-align: right;\n",
       "    }\n",
       "</style>\n",
       "<table border=\"1\" class=\"dataframe\">\n",
       "  <thead>\n",
       "    <tr style=\"text-align: right;\">\n",
       "      <th></th>\n",
       "      <th>Unnamed: 0</th>\n",
       "      <th>MinistryMonthlyBudgetAmount</th>\n",
       "      <th>StartDate</th>\n",
       "      <th>EndDate</th>\n",
       "      <th>Marital_Status</th>\n",
       "      <th>Number_of_Household_Members</th>\n",
       "      <th>City</th>\n",
       "      <th>State</th>\n",
       "      <th>PostalCode</th>\n",
       "      <th>Country</th>\n",
       "    </tr>\n",
       "  </thead>\n",
       "  <tbody>\n",
       "    <tr>\n",
       "      <th>0</th>\n",
       "      <td>1</td>\n",
       "      <td>5485</td>\n",
       "      <td>3/1/2013</td>\n",
       "      <td>12/31/2013</td>\n",
       "      <td>Married</td>\n",
       "      <td>2</td>\n",
       "      <td>Erlanger</td>\n",
       "      <td>KY</td>\n",
       "      <td>41018</td>\n",
       "      <td>United States of America</td>\n",
       "    </tr>\n",
       "    <tr>\n",
       "      <th>1</th>\n",
       "      <td>2</td>\n",
       "      <td>4454</td>\n",
       "      <td>11/1/2011</td>\n",
       "      <td>4/30/2012</td>\n",
       "      <td>Married</td>\n",
       "      <td>2</td>\n",
       "      <td>Spanish Fort</td>\n",
       "      <td>AL</td>\n",
       "      <td>36527</td>\n",
       "      <td>United States of America</td>\n",
       "    </tr>\n",
       "    <tr>\n",
       "      <th>2</th>\n",
       "      <td>3</td>\n",
       "      <td>767</td>\n",
       "      <td>1/1/2013</td>\n",
       "      <td>12/31/2013</td>\n",
       "      <td>Single</td>\n",
       "      <td>1</td>\n",
       "      <td>Lexington</td>\n",
       "      <td>KY</td>\n",
       "      <td>40517</td>\n",
       "      <td>United States of America</td>\n",
       "    </tr>\n",
       "    <tr>\n",
       "      <th>3</th>\n",
       "      <td>4</td>\n",
       "      <td>6368</td>\n",
       "      <td>7/1/2015</td>\n",
       "      <td>2/29/2016</td>\n",
       "      <td>Married</td>\n",
       "      <td>2</td>\n",
       "      <td>Manheim</td>\n",
       "      <td>PA</td>\n",
       "      <td>17545</td>\n",
       "      <td>United States of America</td>\n",
       "    </tr>\n",
       "    <tr>\n",
       "      <th>4</th>\n",
       "      <td>5</td>\n",
       "      <td>1919</td>\n",
       "      <td>8/1/2011</td>\n",
       "      <td>7/31/2012</td>\n",
       "      <td>Divorced</td>\n",
       "      <td>1</td>\n",
       "      <td>Jacksonville</td>\n",
       "      <td>FL</td>\n",
       "      <td>32258-5434</td>\n",
       "      <td>United States of America</td>\n",
       "    </tr>\n",
       "  </tbody>\n",
       "</table>\n",
       "</div>"
      ],
      "text/plain": [
       "   Unnamed: 0  MinistryMonthlyBudgetAmount  StartDate     EndDate  \\\n",
       "0           1                         5485   3/1/2013  12/31/2013   \n",
       "1           2                         4454  11/1/2011   4/30/2012   \n",
       "2           3                          767   1/1/2013  12/31/2013   \n",
       "3           4                         6368   7/1/2015   2/29/2016   \n",
       "4           5                         1919   8/1/2011   7/31/2012   \n",
       "\n",
       "  Marital_Status  Number_of_Household_Members          City State  PostalCode  \\\n",
       "0        Married                            2      Erlanger    KY       41018   \n",
       "1        Married                            2  Spanish Fort    AL       36527   \n",
       "2         Single                            1     Lexington    KY       40517   \n",
       "3        Married                            2       Manheim    PA       17545   \n",
       "4       Divorced                            1  Jacksonville    FL  32258-5434   \n",
       "\n",
       "                    Country  \n",
       "0  United States of America  \n",
       "1  United States of America  \n",
       "2  United States of America  \n",
       "3  United States of America  \n",
       "4  United States of America  "
      ]
     },
     "execution_count": 2,
     "metadata": {},
     "output_type": "execute_result"
    }
   ],
   "source": [
    "# read in data and make sure it is accurate\n",
    "df = pd.read_csv('../Data/ICTO_Datasets/cleaned_ICTO_Datasets.csv')\n",
    "print(df.describe())\n",
    "print()\n",
    "print(df.info())\n",
    "print()\n",
    "print(df.shape)\n",
    "print()\n",
    "df.head()"
   ]
  },
  {
   "cell_type": "code",
   "execution_count": 3,
   "metadata": {},
   "outputs": [],
   "source": [
    "# create geopy object called \n",
    "geolocator=Nominatim(user_agent='geo_processor')"
   ]
  },
  {
   "cell_type": "code",
   "execution_count": 4,
   "metadata": {},
   "outputs": [],
   "source": [
    "city = df['City'][0]\n",
    "country = df['Country'][0]"
   ]
  },
  {
   "cell_type": "code",
   "execution_count": 5,
   "metadata": {},
   "outputs": [
    {
     "name": "stdout",
     "output_type": "stream",
     "text": [
      "39.0167275\n",
      "-84.6007773\n"
     ]
    }
   ],
   "source": [
    "loc = geolocator.geocode('{},{}'.format(city, country))   \n",
    "print(loc.latitude)\n",
    "print(loc.longitude)"
   ]
  },
  {
   "cell_type": "code",
   "execution_count": 6,
   "metadata": {
    "scrolled": true
   },
   "outputs": [],
   "source": [
    "# cities = df['City']\n",
    "# locations = geolocator.geocode(cities,',',country)\n",
    "# locations = geolocator.geocode(df['City'], df['Country'])\n",
    "# print(locations.latitude)\n",
    "# print(locations.longitude)\n",
    "\n",
    "# locations = np.array([])\n",
    "# for city in cities:\n",
    "#     loc = geolocator.geocode('{},{}'.format(city, country))   \n",
    "#     np.append(locations, loc)\n",
    "\n",
    "# this is good but only works for small amounts of data\n",
    "# print(df.shape)\n",
    "# df['GeoAttributes'] = df['City'].head().apply(geolocator.geocode)\n",
    "# df['GeoAttributes']\n",
    "\n",
    "\n",
    "# attributes = list(it.combinations(df['City'].apply(geolocator.geocode), 1))\n",
    "# attributes"
   ]
  },
  {
   "cell_type": "code",
   "execution_count": 7,
   "metadata": {},
   "outputs": [],
   "source": [
    "# chunking the data sets user itertools and then augment it \n",
    "# use a basic one with and index that loops through the process \n",
    "# index process for each point in data\n",
    "# pysal use pysal to convert to lat and long \n",
    "# geojson to convert back \n",
    "# df_copy = df.copy()\n",
    "\n",
    "# research picking out number of clusters \n",
    "# city_it= list(it.combinations(df['City'], 1))\n",
    "# city_it\n",
    "# print(len(city_it))"
   ]
  },
  {
   "cell_type": "markdown",
   "metadata": {},
   "source": [
    "Marital status converted to numbers for different values (new attribute made for the number code)"
   ]
  },
  {
   "cell_type": "code",
   "execution_count": 8,
   "metadata": {},
   "outputs": [
    {
     "data": {
      "text/plain": [
       "Index(['Unnamed: 0', 'MinistryMonthlyBudgetAmount', 'StartDate', 'EndDate',\n",
       "       'Marital_Status', 'Number_of_Household_Members', 'City', 'State',\n",
       "       'PostalCode', 'Country'],\n",
       "      dtype='object')"
      ]
     },
     "execution_count": 8,
     "metadata": {},
     "output_type": "execute_result"
    }
   ],
   "source": [
    "df.columns"
   ]
  },
  {
   "cell_type": "code",
   "execution_count": 9,
   "metadata": {},
   "outputs": [
    {
     "name": "stdout",
     "output_type": "stream",
     "text": [
      "Unique columns ['Married' 'Single' 'Divorced' 'Widowed' 'Separated' 'Widower']\n",
      "Unique shape (6,)\n",
      "Original shape  (8900,)\n",
      "\n",
      "Value Counts:\n",
      "Married      7624\n",
      "Single       1112\n",
      "Widowed       118\n",
      "Divorced       35\n",
      "Separated      10\n",
      "Widower         1\n",
      "Name: Marital_Status, dtype: int64\n",
      "Unique Values:  6\n"
     ]
    }
   ],
   "source": [
    "# get unique values in marital status\n",
    "m_stats_unique = df['Marital_Status'].unique()\n",
    "print('Unique columns',m_stats_unique)\n",
    "print('Unique shape',m_stats_unique.shape)\n",
    "print('Original shape ',df['Marital_Status'].shape)\n",
    "print()\n",
    "print('Value Counts:')\n",
    "print(df['Marital_Status'].value_counts())\n",
    "print('Unique Values: ', df['Marital_Status'].value_counts().count())"
   ]
  },
  {
   "cell_type": "code",
   "execution_count": 10,
   "metadata": {
    "scrolled": true
   },
   "outputs": [
    {
     "data": {
      "image/png": "[encoded data removed]",
      "text/plain": [
       "<Figure size 432x288 with 1 Axes>"
      ]
     },
     "metadata": {
      "needs_background": "light"
     },
     "output_type": "display_data"
    }
   ],
   "source": [
    "# data exploration of marital status\n",
    "mstatus_counts = df['Marital_Status'].value_counts()\n",
    "sns.barplot(mstatus_counts.index, mstatus_counts.values, alpha=0.6)\n",
    "plt.title('Frquency Distribution of Marital Status', color='white')\n",
    "plt.ylabel('Number of Occurences', fontsize=12, color='white')\n",
    "plt.xlabel('Marital Status', fontsize=12, color='white')\n",
    "plt.show()"
   ]
  },
  {
   "cell_type": "code",
   "execution_count": 11,
   "metadata": {},
   "outputs": [
    {
     "data": {
      "image/png": "[encoded data removed]",
      "text/plain": [
       "<Figure size 432x288 with 1 Axes>"
      ]
     },
     "metadata": {},
     "output_type": "display_data"
    }
   ],
   "source": [
    "labels = df['Marital_Status'].astype('category').cat.categories.tolist()\n",
    "counts = df['Marital_Status'].value_counts()\n",
    "sizes = [counts[var] for var in labels]\n",
    "fig1, ax1 = plt.subplots()\n",
    "ax1.pie(sizes, labels=labels, autopct='%1.1f%%', shadow=True) #autopct is show the % on plot\n",
    "ax1.axis('equal')\n",
    "plt.show()"
   ]
  },
  {
   "cell_type": "code",
   "execution_count": 12,
   "metadata": {},
   "outputs": [
    {
     "data": {
      "text/html": [
       "<div>\n",
       "<style scoped>\n",
       "    .dataframe tbody tr th:only-of-type {\n",
       "        vertical-align: middle;\n",
       "    }\n",
       "\n",
       "    .dataframe tbody tr th {\n",
       "        vertical-align: top;\n",
       "    }\n",
       "\n",
       "    .dataframe thead th {\n",
       "        text-align: right;\n",
       "    }\n",
       "</style>\n",
       "<table border=\"1\" class=\"dataframe\">\n",
       "  <thead>\n",
       "    <tr style=\"text-align: right;\">\n",
       "      <th></th>\n",
       "      <th>Divorced</th>\n",
       "      <th>Married</th>\n",
       "      <th>Separated</th>\n",
       "      <th>Single</th>\n",
       "      <th>Widowed</th>\n",
       "      <th>Widower</th>\n",
       "    </tr>\n",
       "  </thead>\n",
       "  <tbody>\n",
       "    <tr>\n",
       "      <th>0</th>\n",
       "      <td>0</td>\n",
       "      <td>1</td>\n",
       "      <td>0</td>\n",
       "      <td>0</td>\n",
       "      <td>0</td>\n",
       "      <td>0</td>\n",
       "    </tr>\n",
       "    <tr>\n",
       "      <th>1</th>\n",
       "      <td>0</td>\n",
       "      <td>1</td>\n",
       "      <td>0</td>\n",
       "      <td>0</td>\n",
       "      <td>0</td>\n",
       "      <td>0</td>\n",
       "    </tr>\n",
       "    <tr>\n",
       "      <th>2</th>\n",
       "      <td>0</td>\n",
       "      <td>0</td>\n",
       "      <td>0</td>\n",
       "      <td>1</td>\n",
       "      <td>0</td>\n",
       "      <td>0</td>\n",
       "    </tr>\n",
       "    <tr>\n",
       "      <th>3</th>\n",
       "      <td>0</td>\n",
       "      <td>1</td>\n",
       "      <td>0</td>\n",
       "      <td>0</td>\n",
       "      <td>0</td>\n",
       "      <td>0</td>\n",
       "    </tr>\n",
       "    <tr>\n",
       "      <th>4</th>\n",
       "      <td>1</td>\n",
       "      <td>0</td>\n",
       "      <td>0</td>\n",
       "      <td>0</td>\n",
       "      <td>0</td>\n",
       "      <td>0</td>\n",
       "    </tr>\n",
       "  </tbody>\n",
       "</table>\n",
       "</div>"
      ],
      "text/plain": [
       "   Divorced  Married  Separated  Single  Widowed  Widower\n",
       "0         0        1          0       0        0        0\n",
       "1         0        1          0       0        0        0\n",
       "2         0        0          0       1        0        0\n",
       "3         0        1          0       0        0        0\n",
       "4         1        0          0       0        0        0"
      ]
     },
     "execution_count": 12,
     "metadata": {},
     "output_type": "execute_result"
    }
   ],
   "source": [
    "# use sci-kit learn's LabelBinarizer to convert Marital Status values to \n",
    "\n",
    "lb = LabelBinarizer()\n",
    "lb_results = lb.fit_transform(df['Marital_Status'])\n",
    "lb_results_df = pd.DataFrame(lb_results, columns=lb.classes_)\n",
    "lb_results_df.head()\n",
    "# print(df.head())"
   ]
  },
  {
   "cell_type": "code",
   "execution_count": 13,
   "metadata": {},
   "outputs": [
    {
     "data": {
      "text/plain": [
       "{'Marital_Status': {'Divorced': 1,\n",
       "  'Married': 2,\n",
       "  'Separated': 3,\n",
       "  'Single': 4,\n",
       "  'Widowed': 5,\n",
       "  'Widower': 6}}"
      ]
     },
     "execution_count": 13,
     "metadata": {},
     "output_type": "execute_result"
    }
   ],
   "source": [
    "# using pandas replace() and dictionary comprehensions to encode marital status with new values\n",
    "labels = df['Marital_Status'].astype('category').cat.categories.tolist()\n",
    "replace_map_mstatus = {'Marital_Status' : {k: v for k,v in zip(labels,list(range(1,len(labels)+1)))}}\n",
    "replace_map_mstatus"
   ]
  },
  {
   "cell_type": "code",
   "execution_count": 14,
   "metadata": {},
   "outputs": [],
   "source": [
    "map_mstatus = {\n",
    "    'Divorced': 1,\n",
    "    'Married': 2,\n",
    "    'Seperated': 3,\n",
    "    'Single': 4,\n",
    "    'Widowed': 5,\n",
    "    'Widower': 6\n",
    "}"
   ]
  },
  {
   "cell_type": "code",
   "execution_count": 15,
   "metadata": {},
   "outputs": [
    {
     "data": {
      "text/html": [
       "<div>\n",
       "<style scoped>\n",
       "    .dataframe tbody tr th:only-of-type {\n",
       "        vertical-align: middle;\n",
       "    }\n",
       "\n",
       "    .dataframe tbody tr th {\n",
       "        vertical-align: top;\n",
       "    }\n",
       "\n",
       "    .dataframe thead th {\n",
       "        text-align: right;\n",
       "    }\n",
       "</style>\n",
       "<table border=\"1\" class=\"dataframe\">\n",
       "  <thead>\n",
       "    <tr style=\"text-align: right;\">\n",
       "      <th></th>\n",
       "      <th>Unnamed: 0</th>\n",
       "      <th>MinistryMonthlyBudgetAmount</th>\n",
       "      <th>StartDate</th>\n",
       "      <th>EndDate</th>\n",
       "      <th>Marital_Status</th>\n",
       "      <th>Number_of_Household_Members</th>\n",
       "      <th>City</th>\n",
       "      <th>State</th>\n",
       "      <th>PostalCode</th>\n",
       "      <th>Country</th>\n",
       "      <th>Coded_Marital_Status</th>\n",
       "    </tr>\n",
       "  </thead>\n",
       "  <tbody>\n",
       "    <tr>\n",
       "      <th>0</th>\n",
       "      <td>1</td>\n",
       "      <td>5485</td>\n",
       "      <td>3/1/2013</td>\n",
       "      <td>12/31/2013</td>\n",
       "      <td>Married</td>\n",
       "      <td>2</td>\n",
       "      <td>Erlanger</td>\n",
       "      <td>KY</td>\n",
       "      <td>41018</td>\n",
       "      <td>United States of America</td>\n",
       "      <td>2.0</td>\n",
       "    </tr>\n",
       "    <tr>\n",
       "      <th>1</th>\n",
       "      <td>2</td>\n",
       "      <td>4454</td>\n",
       "      <td>11/1/2011</td>\n",
       "      <td>4/30/2012</td>\n",
       "      <td>Married</td>\n",
       "      <td>2</td>\n",
       "      <td>Spanish Fort</td>\n",
       "      <td>AL</td>\n",
       "      <td>36527</td>\n",
       "      <td>United States of America</td>\n",
       "      <td>2.0</td>\n",
       "    </tr>\n",
       "    <tr>\n",
       "      <th>2</th>\n",
       "      <td>3</td>\n",
       "      <td>767</td>\n",
       "      <td>1/1/2013</td>\n",
       "      <td>12/31/2013</td>\n",
       "      <td>Single</td>\n",
       "      <td>1</td>\n",
       "      <td>Lexington</td>\n",
       "      <td>KY</td>\n",
       "      <td>40517</td>\n",
       "      <td>United States of America</td>\n",
       "      <td>4.0</td>\n",
       "    </tr>\n",
       "    <tr>\n",
       "      <th>3</th>\n",
       "      <td>4</td>\n",
       "      <td>6368</td>\n",
       "      <td>7/1/2015</td>\n",
       "      <td>2/29/2016</td>\n",
       "      <td>Married</td>\n",
       "      <td>2</td>\n",
       "      <td>Manheim</td>\n",
       "      <td>PA</td>\n",
       "      <td>17545</td>\n",
       "      <td>United States of America</td>\n",
       "      <td>2.0</td>\n",
       "    </tr>\n",
       "    <tr>\n",
       "      <th>4</th>\n",
       "      <td>5</td>\n",
       "      <td>1919</td>\n",
       "      <td>8/1/2011</td>\n",
       "      <td>7/31/2012</td>\n",
       "      <td>Divorced</td>\n",
       "      <td>1</td>\n",
       "      <td>Jacksonville</td>\n",
       "      <td>FL</td>\n",
       "      <td>32258-5434</td>\n",
       "      <td>United States of America</td>\n",
       "      <td>1.0</td>\n",
       "    </tr>\n",
       "  </tbody>\n",
       "</table>\n",
       "</div>"
      ],
      "text/plain": [
       "   Unnamed: 0  MinistryMonthlyBudgetAmount  StartDate     EndDate  \\\n",
       "0           1                         5485   3/1/2013  12/31/2013   \n",
       "1           2                         4454  11/1/2011   4/30/2012   \n",
       "2           3                          767   1/1/2013  12/31/2013   \n",
       "3           4                         6368   7/1/2015   2/29/2016   \n",
       "4           5                         1919   8/1/2011   7/31/2012   \n",
       "\n",
       "  Marital_Status  Number_of_Household_Members          City State  PostalCode  \\\n",
       "0        Married                            2      Erlanger    KY       41018   \n",
       "1        Married                            2  Spanish Fort    AL       36527   \n",
       "2         Single                            1     Lexington    KY       40517   \n",
       "3        Married                            2       Manheim    PA       17545   \n",
       "4       Divorced                            1  Jacksonville    FL  32258-5434   \n",
       "\n",
       "                    Country  Coded_Marital_Status  \n",
       "0  United States of America                   2.0  \n",
       "1  United States of America                   2.0  \n",
       "2  United States of America                   4.0  \n",
       "3  United States of America                   2.0  \n",
       "4  United States of America                   1.0  "
      ]
     },
     "execution_count": 15,
     "metadata": {},
     "output_type": "execute_result"
    }
   ],
   "source": [
    "# mapping the column Marital_Status from df to dictionary mapping \n",
    "# df['Coded_Marital_Status'] = df['Marital_Status'].map(map_mstatus)\n",
    "df['Coded_Marital_Status'] = df['Marital_Status'].map(map_mstatus)\n",
    "df.head()"
   ]
  },
  {
   "cell_type": "markdown",
   "metadata": {},
   "source": [
    "Modify the dates so the new feature will say length of duration, do this by rounding start and end dates into nearest month of a certian year. The calculate the difference between start and end year, and the difference between start and end month. Drop the days. We will get the duration of the project. This will be the new feature along with rounded year."
   ]
  },
  {
   "cell_type": "code",
   "execution_count": 16,
   "metadata": {},
   "outputs": [
    {
     "data": {
      "text/plain": [
       "str"
      ]
     },
     "execution_count": 16,
     "metadata": {},
     "output_type": "execute_result"
    }
   ],
   "source": [
    "type(df['StartDate'][0])"
   ]
  },
  {
   "cell_type": "code",
   "execution_count": 17,
   "metadata": {},
   "outputs": [
    {
     "data": {
      "text/plain": [
       "0        [3, 1, 2013]\n",
       "1       [11, 1, 2011]\n",
       "2        [1, 1, 2013]\n",
       "3        [7, 1, 2015]\n",
       "4        [8, 1, 2011]\n",
       "            ...      \n",
       "8895     [1, 1, 2015]\n",
       "8896    [12, 1, 2009]\n",
       "8897     [9, 1, 2005]\n",
       "8898     [7, 1, 2009]\n",
       "8899    [11, 1, 2015]\n",
       "Name: StartDate, Length: 8900, dtype: object"
      ]
     },
     "execution_count": 17,
     "metadata": {},
     "output_type": "execute_result"
    }
   ],
   "source": [
    "split_series_start = df['StartDate'].str.split('/')\n",
    "split_series_start"
   ]
  },
  {
   "cell_type": "code",
   "execution_count": 18,
   "metadata": {},
   "outputs": [
    {
     "data": {
      "text/plain": [
       "'2013'"
      ]
     },
     "execution_count": 18,
     "metadata": {},
     "output_type": "execute_result"
    }
   ],
   "source": [
    "split_series_start[0][2]"
   ]
  },
  {
   "cell_type": "code",
   "execution_count": 19,
   "metadata": {},
   "outputs": [],
   "source": [
    "nums = np.arange(0, 8899)\n",
    "start_yr = np.array([])\n",
    "for i in nums:\n",
    "    start_yr = np.append(start_yr, split_series_start[i][2])"
   ]
  },
  {
   "cell_type": "code",
   "execution_count": 20,
   "metadata": {},
   "outputs": [
    {
     "data": {
      "text/plain": [
       "array(['2013', '2011', '2013', ..., '2009', '2005', '2009'], dtype='<U32')"
      ]
     },
     "execution_count": 20,
     "metadata": {},
     "output_type": "execute_result"
    }
   ],
   "source": [
    "start_yr"
   ]
  },
  {
   "cell_type": "code",
   "execution_count": 21,
   "metadata": {},
   "outputs": [
    {
     "data": {
      "text/plain": [
       "0       [12, 31, 2013]\n",
       "1        [4, 30, 2012]\n",
       "2       [12, 31, 2013]\n",
       "3        [2, 29, 2016]\n",
       "4        [7, 31, 2012]\n",
       "             ...      \n",
       "8895    [12, 31, 2015]\n",
       "8896     [6, 30, 2010]\n",
       "8897     [8, 31, 2006]\n",
       "8898     [5, 31, 2010]\n",
       "8899     [3, 31, 2016]\n",
       "Name: EndDate, Length: 8900, dtype: object"
      ]
     },
     "execution_count": 21,
     "metadata": {},
     "output_type": "execute_result"
    }
   ],
   "source": [
    "split_series_end = df['EndDate'].str.split('/')\n",
    "split_series_end "
   ]
  },
  {
   "cell_type": "code",
   "execution_count": 22,
   "metadata": {},
   "outputs": [
    {
     "data": {
      "text/plain": [
       "'2013'"
      ]
     },
     "execution_count": 22,
     "metadata": {},
     "output_type": "execute_result"
    }
   ],
   "source": [
    "split_series_end[0][2]"
   ]
  },
  {
   "cell_type": "code",
   "execution_count": 23,
   "metadata": {},
   "outputs": [
    {
     "data": {
      "text/plain": [
       "array(['2013', '2012', '2013', ..., '2010', '2006', '2010'], dtype='<U32')"
      ]
     },
     "execution_count": 23,
     "metadata": {},
     "output_type": "execute_result"
    }
   ],
   "source": [
    "end_yr = np.array([])\n",
    "for i in nums:\n",
    "    end_yr = np.append(end_yr, split_series_end[i][2])\n",
    "end_yr"
   ]
  },
  {
   "cell_type": "code",
   "execution_count": 24,
   "metadata": {},
   "outputs": [],
   "source": [
    "df['End_Yr'] = pd.DataFrame(end_yr)\n",
    "df['Start_Yr'] = pd.DataFrame(start_yr)"
   ]
  },
  {
   "cell_type": "code",
   "execution_count": 25,
   "metadata": {},
   "outputs": [
    {
     "data": {
      "text/html": [
       "<div>\n",
       "<style scoped>\n",
       "    .dataframe tbody tr th:only-of-type {\n",
       "        vertical-align: middle;\n",
       "    }\n",
       "\n",
       "    .dataframe tbody tr th {\n",
       "        vertical-align: top;\n",
       "    }\n",
       "\n",
       "    .dataframe thead th {\n",
       "        text-align: right;\n",
       "    }\n",
       "</style>\n",
       "<table border=\"1\" class=\"dataframe\">\n",
       "  <thead>\n",
       "    <tr style=\"text-align: right;\">\n",
       "      <th></th>\n",
       "      <th>Unnamed: 0</th>\n",
       "      <th>MinistryMonthlyBudgetAmount</th>\n",
       "      <th>StartDate</th>\n",
       "      <th>EndDate</th>\n",
       "      <th>Marital_Status</th>\n",
       "      <th>Number_of_Household_Members</th>\n",
       "      <th>City</th>\n",
       "      <th>State</th>\n",
       "      <th>PostalCode</th>\n",
       "      <th>Country</th>\n",
       "      <th>Coded_Marital_Status</th>\n",
       "      <th>End_Yr</th>\n",
       "      <th>Start_Yr</th>\n",
       "    </tr>\n",
       "  </thead>\n",
       "  <tbody>\n",
       "    <tr>\n",
       "      <th>0</th>\n",
       "      <td>1</td>\n",
       "      <td>5485</td>\n",
       "      <td>3/1/2013</td>\n",
       "      <td>12/31/2013</td>\n",
       "      <td>Married</td>\n",
       "      <td>2</td>\n",
       "      <td>Erlanger</td>\n",
       "      <td>KY</td>\n",
       "      <td>41018</td>\n",
       "      <td>United States of America</td>\n",
       "      <td>2.0</td>\n",
       "      <td>2013</td>\n",
       "      <td>2013</td>\n",
       "    </tr>\n",
       "    <tr>\n",
       "      <th>1</th>\n",
       "      <td>2</td>\n",
       "      <td>4454</td>\n",
       "      <td>11/1/2011</td>\n",
       "      <td>4/30/2012</td>\n",
       "      <td>Married</td>\n",
       "      <td>2</td>\n",
       "      <td>Spanish Fort</td>\n",
       "      <td>AL</td>\n",
       "      <td>36527</td>\n",
       "      <td>United States of America</td>\n",
       "      <td>2.0</td>\n",
       "      <td>2012</td>\n",
       "      <td>2011</td>\n",
       "    </tr>\n",
       "    <tr>\n",
       "      <th>2</th>\n",
       "      <td>3</td>\n",
       "      <td>767</td>\n",
       "      <td>1/1/2013</td>\n",
       "      <td>12/31/2013</td>\n",
       "      <td>Single</td>\n",
       "      <td>1</td>\n",
       "      <td>Lexington</td>\n",
       "      <td>KY</td>\n",
       "      <td>40517</td>\n",
       "      <td>United States of America</td>\n",
       "      <td>4.0</td>\n",
       "      <td>2013</td>\n",
       "      <td>2013</td>\n",
       "    </tr>\n",
       "    <tr>\n",
       "      <th>3</th>\n",
       "      <td>4</td>\n",
       "      <td>6368</td>\n",
       "      <td>7/1/2015</td>\n",
       "      <td>2/29/2016</td>\n",
       "      <td>Married</td>\n",
       "      <td>2</td>\n",
       "      <td>Manheim</td>\n",
       "      <td>PA</td>\n",
       "      <td>17545</td>\n",
       "      <td>United States of America</td>\n",
       "      <td>2.0</td>\n",
       "      <td>2016</td>\n",
       "      <td>2015</td>\n",
       "    </tr>\n",
       "    <tr>\n",
       "      <th>4</th>\n",
       "      <td>5</td>\n",
       "      <td>1919</td>\n",
       "      <td>8/1/2011</td>\n",
       "      <td>7/31/2012</td>\n",
       "      <td>Divorced</td>\n",
       "      <td>1</td>\n",
       "      <td>Jacksonville</td>\n",
       "      <td>FL</td>\n",
       "      <td>32258-5434</td>\n",
       "      <td>United States of America</td>\n",
       "      <td>1.0</td>\n",
       "      <td>2012</td>\n",
       "      <td>2011</td>\n",
       "    </tr>\n",
       "  </tbody>\n",
       "</table>\n",
       "</div>"
      ],
      "text/plain": [
       "   Unnamed: 0  MinistryMonthlyBudgetAmount  StartDate     EndDate  \\\n",
       "0           1                         5485   3/1/2013  12/31/2013   \n",
       "1           2                         4454  11/1/2011   4/30/2012   \n",
       "2           3                          767   1/1/2013  12/31/2013   \n",
       "3           4                         6368   7/1/2015   2/29/2016   \n",
       "4           5                         1919   8/1/2011   7/31/2012   \n",
       "\n",
       "  Marital_Status  Number_of_Household_Members          City State  PostalCode  \\\n",
       "0        Married                            2      Erlanger    KY       41018   \n",
       "1        Married                            2  Spanish Fort    AL       36527   \n",
       "2         Single                            1     Lexington    KY       40517   \n",
       "3        Married                            2       Manheim    PA       17545   \n",
       "4       Divorced                            1  Jacksonville    FL  32258-5434   \n",
       "\n",
       "                    Country  Coded_Marital_Status End_Yr Start_Yr  \n",
       "0  United States of America                   2.0   2013     2013  \n",
       "1  United States of America                   2.0   2012     2011  \n",
       "2  United States of America                   4.0   2013     2013  \n",
       "3  United States of America                   2.0   2016     2015  \n",
       "4  United States of America                   1.0   2012     2011  "
      ]
     },
     "execution_count": 25,
     "metadata": {},
     "output_type": "execute_result"
    }
   ],
   "source": [
    "df.head()"
   ]
  },
  {
   "cell_type": "code",
   "execution_count": 26,
   "metadata": {},
   "outputs": [
    {
     "data": {
      "text/plain": [
       "'1'"
      ]
     },
     "execution_count": 26,
     "metadata": {},
     "output_type": "execute_result"
    }
   ],
   "source": [
    "split_series_start[0][1]"
   ]
  },
  {
   "cell_type": "code",
   "execution_count": 27,
   "metadata": {},
   "outputs": [],
   "source": [
    "start_mnth = np.array([])\n",
    "for i in nums:\n",
    "    start_mnth=np.append(start_mnth, split_series_start[i][0])"
   ]
  },
  {
   "cell_type": "code",
   "execution_count": 28,
   "metadata": {},
   "outputs": [],
   "source": [
    "end_mnth = np.array([])\n",
    "for i in nums:\n",
    "    end_mnth=np.append(end_mnth, split_series_end[i][0])"
   ]
  },
  {
   "cell_type": "code",
   "execution_count": 29,
   "metadata": {},
   "outputs": [],
   "source": [
    "df['End_Mnth'] = pd.DataFrame(end_mnth)\n",
    "df['Start_Mnth'] = pd.DataFrame(start_mnth)"
   ]
  },
  {
   "cell_type": "code",
   "execution_count": 30,
   "metadata": {
    "scrolled": true
   },
   "outputs": [
    {
     "data": {
      "text/html": [
       "<div>\n",
       "<style scoped>\n",
       "    .dataframe tbody tr th:only-of-type {\n",
       "        vertical-align: middle;\n",
       "    }\n",
       "\n",
       "    .dataframe tbody tr th {\n",
       "        vertical-align: top;\n",
       "    }\n",
       "\n",
       "    .dataframe thead th {\n",
       "        text-align: right;\n",
       "    }\n",
       "</style>\n",
       "<table border=\"1\" class=\"dataframe\">\n",
       "  <thead>\n",
       "    <tr style=\"text-align: right;\">\n",
       "      <th></th>\n",
       "      <th>Unnamed: 0</th>\n",
       "      <th>MinistryMonthlyBudgetAmount</th>\n",
       "      <th>StartDate</th>\n",
       "      <th>EndDate</th>\n",
       "      <th>Marital_Status</th>\n",
       "      <th>Number_of_Household_Members</th>\n",
       "      <th>City</th>\n",
       "      <th>State</th>\n",
       "      <th>PostalCode</th>\n",
       "      <th>Country</th>\n",
       "      <th>Coded_Marital_Status</th>\n",
       "      <th>End_Yr</th>\n",
       "      <th>Start_Yr</th>\n",
       "      <th>End_Mnth</th>\n",
       "      <th>Start_Mnth</th>\n",
       "    </tr>\n",
       "  </thead>\n",
       "  <tbody>\n",
       "    <tr>\n",
       "      <th>0</th>\n",
       "      <td>1</td>\n",
       "      <td>5485</td>\n",
       "      <td>3/1/2013</td>\n",
       "      <td>12/31/2013</td>\n",
       "      <td>Married</td>\n",
       "      <td>2</td>\n",
       "      <td>Erlanger</td>\n",
       "      <td>KY</td>\n",
       "      <td>41018</td>\n",
       "      <td>United States of America</td>\n",
       "      <td>2.0</td>\n",
       "      <td>2013</td>\n",
       "      <td>2013</td>\n",
       "      <td>12</td>\n",
       "      <td>3</td>\n",
       "    </tr>\n",
       "    <tr>\n",
       "      <th>1</th>\n",
       "      <td>2</td>\n",
       "      <td>4454</td>\n",
       "      <td>11/1/2011</td>\n",
       "      <td>4/30/2012</td>\n",
       "      <td>Married</td>\n",
       "      <td>2</td>\n",
       "      <td>Spanish Fort</td>\n",
       "      <td>AL</td>\n",
       "      <td>36527</td>\n",
       "      <td>United States of America</td>\n",
       "      <td>2.0</td>\n",
       "      <td>2012</td>\n",
       "      <td>2011</td>\n",
       "      <td>4</td>\n",
       "      <td>11</td>\n",
       "    </tr>\n",
       "    <tr>\n",
       "      <th>2</th>\n",
       "      <td>3</td>\n",
       "      <td>767</td>\n",
       "      <td>1/1/2013</td>\n",
       "      <td>12/31/2013</td>\n",
       "      <td>Single</td>\n",
       "      <td>1</td>\n",
       "      <td>Lexington</td>\n",
       "      <td>KY</td>\n",
       "      <td>40517</td>\n",
       "      <td>United States of America</td>\n",
       "      <td>4.0</td>\n",
       "      <td>2013</td>\n",
       "      <td>2013</td>\n",
       "      <td>12</td>\n",
       "      <td>1</td>\n",
       "    </tr>\n",
       "    <tr>\n",
       "      <th>3</th>\n",
       "      <td>4</td>\n",
       "      <td>6368</td>\n",
       "      <td>7/1/2015</td>\n",
       "      <td>2/29/2016</td>\n",
       "      <td>Married</td>\n",
       "      <td>2</td>\n",
       "      <td>Manheim</td>\n",
       "      <td>PA</td>\n",
       "      <td>17545</td>\n",
       "      <td>United States of America</td>\n",
       "      <td>2.0</td>\n",
       "      <td>2016</td>\n",
       "      <td>2015</td>\n",
       "      <td>2</td>\n",
       "      <td>7</td>\n",
       "    </tr>\n",
       "    <tr>\n",
       "      <th>4</th>\n",
       "      <td>5</td>\n",
       "      <td>1919</td>\n",
       "      <td>8/1/2011</td>\n",
       "      <td>7/31/2012</td>\n",
       "      <td>Divorced</td>\n",
       "      <td>1</td>\n",
       "      <td>Jacksonville</td>\n",
       "      <td>FL</td>\n",
       "      <td>32258-5434</td>\n",
       "      <td>United States of America</td>\n",
       "      <td>1.0</td>\n",
       "      <td>2012</td>\n",
       "      <td>2011</td>\n",
       "      <td>7</td>\n",
       "      <td>8</td>\n",
       "    </tr>\n",
       "  </tbody>\n",
       "</table>\n",
       "</div>"
      ],
      "text/plain": [
       "   Unnamed: 0  MinistryMonthlyBudgetAmount  StartDate     EndDate  \\\n",
       "0           1                         5485   3/1/2013  12/31/2013   \n",
       "1           2                         4454  11/1/2011   4/30/2012   \n",
       "2           3                          767   1/1/2013  12/31/2013   \n",
       "3           4                         6368   7/1/2015   2/29/2016   \n",
       "4           5                         1919   8/1/2011   7/31/2012   \n",
       "\n",
       "  Marital_Status  Number_of_Household_Members          City State  PostalCode  \\\n",
       "0        Married                            2      Erlanger    KY       41018   \n",
       "1        Married                            2  Spanish Fort    AL       36527   \n",
       "2         Single                            1     Lexington    KY       40517   \n",
       "3        Married                            2       Manheim    PA       17545   \n",
       "4       Divorced                            1  Jacksonville    FL  32258-5434   \n",
       "\n",
       "                    Country  Coded_Marital_Status End_Yr Start_Yr End_Mnth  \\\n",
       "0  United States of America                   2.0   2013     2013       12   \n",
       "1  United States of America                   2.0   2012     2011        4   \n",
       "2  United States of America                   4.0   2013     2013       12   \n",
       "3  United States of America                   2.0   2016     2015        2   \n",
       "4  United States of America                   1.0   2012     2011        7   \n",
       "\n",
       "  Start_Mnth  \n",
       "0          3  \n",
       "1         11  \n",
       "2          1  \n",
       "3          7  \n",
       "4          8  "
      ]
     },
     "execution_count": 30,
     "metadata": {},
     "output_type": "execute_result"
    }
   ],
   "source": [
    "df.head()"
   ]
  },
  {
   "cell_type": "code",
   "execution_count": 31,
   "metadata": {},
   "outputs": [],
   "source": [
    "# convert the years into months \n",
    "# add the start and end months onto the start and end years in months\n",
    "# compute the difference in start and end years in months\n",
    "# create a new column\n",
    "df['End_Yr'] = pd.to_numeric(df['End_Yr'])\n",
    "df['Start_Yr'] = pd.to_numeric(df['Start_Yr'])"
   ]
  },
  {
   "cell_type": "code",
   "execution_count": 32,
   "metadata": {},
   "outputs": [
    {
     "data": {
      "text/html": [
       "<div>\n",
       "<style scoped>\n",
       "    .dataframe tbody tr th:only-of-type {\n",
       "        vertical-align: middle;\n",
       "    }\n",
       "\n",
       "    .dataframe tbody tr th {\n",
       "        vertical-align: top;\n",
       "    }\n",
       "\n",
       "    .dataframe thead th {\n",
       "        text-align: right;\n",
       "    }\n",
       "</style>\n",
       "<table border=\"1\" class=\"dataframe\">\n",
       "  <thead>\n",
       "    <tr style=\"text-align: right;\">\n",
       "      <th></th>\n",
       "      <th>Unnamed: 0</th>\n",
       "      <th>MinistryMonthlyBudgetAmount</th>\n",
       "      <th>StartDate</th>\n",
       "      <th>EndDate</th>\n",
       "      <th>Marital_Status</th>\n",
       "      <th>Number_of_Household_Members</th>\n",
       "      <th>City</th>\n",
       "      <th>State</th>\n",
       "      <th>PostalCode</th>\n",
       "      <th>Country</th>\n",
       "      <th>Coded_Marital_Status</th>\n",
       "      <th>End_Yr</th>\n",
       "      <th>Start_Yr</th>\n",
       "      <th>End_Mnth</th>\n",
       "      <th>Start_Mnth</th>\n",
       "    </tr>\n",
       "  </thead>\n",
       "  <tbody>\n",
       "    <tr>\n",
       "      <th>0</th>\n",
       "      <td>1</td>\n",
       "      <td>5485</td>\n",
       "      <td>3/1/2013</td>\n",
       "      <td>12/31/2013</td>\n",
       "      <td>Married</td>\n",
       "      <td>2</td>\n",
       "      <td>Erlanger</td>\n",
       "      <td>KY</td>\n",
       "      <td>41018</td>\n",
       "      <td>United States of America</td>\n",
       "      <td>2.0</td>\n",
       "      <td>2013.0</td>\n",
       "      <td>2013.0</td>\n",
       "      <td>12</td>\n",
       "      <td>3</td>\n",
       "    </tr>\n",
       "    <tr>\n",
       "      <th>1</th>\n",
       "      <td>2</td>\n",
       "      <td>4454</td>\n",
       "      <td>11/1/2011</td>\n",
       "      <td>4/30/2012</td>\n",
       "      <td>Married</td>\n",
       "      <td>2</td>\n",
       "      <td>Spanish Fort</td>\n",
       "      <td>AL</td>\n",
       "      <td>36527</td>\n",
       "      <td>United States of America</td>\n",
       "      <td>2.0</td>\n",
       "      <td>2012.0</td>\n",
       "      <td>2011.0</td>\n",
       "      <td>4</td>\n",
       "      <td>11</td>\n",
       "    </tr>\n",
       "    <tr>\n",
       "      <th>2</th>\n",
       "      <td>3</td>\n",
       "      <td>767</td>\n",
       "      <td>1/1/2013</td>\n",
       "      <td>12/31/2013</td>\n",
       "      <td>Single</td>\n",
       "      <td>1</td>\n",
       "      <td>Lexington</td>\n",
       "      <td>KY</td>\n",
       "      <td>40517</td>\n",
       "      <td>United States of America</td>\n",
       "      <td>4.0</td>\n",
       "      <td>2013.0</td>\n",
       "      <td>2013.0</td>\n",
       "      <td>12</td>\n",
       "      <td>1</td>\n",
       "    </tr>\n",
       "    <tr>\n",
       "      <th>3</th>\n",
       "      <td>4</td>\n",
       "      <td>6368</td>\n",
       "      <td>7/1/2015</td>\n",
       "      <td>2/29/2016</td>\n",
       "      <td>Married</td>\n",
       "      <td>2</td>\n",
       "      <td>Manheim</td>\n",
       "      <td>PA</td>\n",
       "      <td>17545</td>\n",
       "      <td>United States of America</td>\n",
       "      <td>2.0</td>\n",
       "      <td>2016.0</td>\n",
       "      <td>2015.0</td>\n",
       "      <td>2</td>\n",
       "      <td>7</td>\n",
       "    </tr>\n",
       "    <tr>\n",
       "      <th>4</th>\n",
       "      <td>5</td>\n",
       "      <td>1919</td>\n",
       "      <td>8/1/2011</td>\n",
       "      <td>7/31/2012</td>\n",
       "      <td>Divorced</td>\n",
       "      <td>1</td>\n",
       "      <td>Jacksonville</td>\n",
       "      <td>FL</td>\n",
       "      <td>32258-5434</td>\n",
       "      <td>United States of America</td>\n",
       "      <td>1.0</td>\n",
       "      <td>2012.0</td>\n",
       "      <td>2011.0</td>\n",
       "      <td>7</td>\n",
       "      <td>8</td>\n",
       "    </tr>\n",
       "  </tbody>\n",
       "</table>\n",
       "</div>"
      ],
      "text/plain": [
       "   Unnamed: 0  MinistryMonthlyBudgetAmount  StartDate     EndDate  \\\n",
       "0           1                         5485   3/1/2013  12/31/2013   \n",
       "1           2                         4454  11/1/2011   4/30/2012   \n",
       "2           3                          767   1/1/2013  12/31/2013   \n",
       "3           4                         6368   7/1/2015   2/29/2016   \n",
       "4           5                         1919   8/1/2011   7/31/2012   \n",
       "\n",
       "  Marital_Status  Number_of_Household_Members          City State  PostalCode  \\\n",
       "0        Married                            2      Erlanger    KY       41018   \n",
       "1        Married                            2  Spanish Fort    AL       36527   \n",
       "2         Single                            1     Lexington    KY       40517   \n",
       "3        Married                            2       Manheim    PA       17545   \n",
       "4       Divorced                            1  Jacksonville    FL  32258-5434   \n",
       "\n",
       "                    Country  Coded_Marital_Status  End_Yr  Start_Yr End_Mnth  \\\n",
       "0  United States of America                   2.0  2013.0    2013.0       12   \n",
       "1  United States of America                   2.0  2012.0    2011.0        4   \n",
       "2  United States of America                   4.0  2013.0    2013.0       12   \n",
       "3  United States of America                   2.0  2016.0    2015.0        2   \n",
       "4  United States of America                   1.0  2012.0    2011.0        7   \n",
       "\n",
       "  Start_Mnth  \n",
       "0          3  \n",
       "1         11  \n",
       "2          1  \n",
       "3          7  \n",
       "4          8  "
      ]
     },
     "execution_count": 32,
     "metadata": {},
     "output_type": "execute_result"
    }
   ],
   "source": [
    "df.head()"
   ]
  }
 ],
 "metadata": {
  "kernelspec": {
   "display_name": "Python 3",
   "language": "python",
   "name": "python3"
  },
  "language_info": {
   "codemirror_mode": {
    "name": "ipython",
    "version": 3
   },
   "file_extension": ".py",
   "mimetype": "text/x-python",
   "name": "python",
   "nbconvert_exporter": "python",
   "pygments_lexer": "ipython3",
   "version": "3.7.3"
  }
 },
 "nbformat": 4,
 "nbformat_minor": 2
}
